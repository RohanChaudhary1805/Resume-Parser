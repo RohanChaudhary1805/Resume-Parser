{
  "nbformat": 4,
  "nbformat_minor": 0,
  "metadata": {
    "colab": {
      "provenance": [],
      "gpuType": "T4"
    },
    "kernelspec": {
      "name": "python3",
      "display_name": "Python 3"
    },
    "language_info": {
      "name": "python"
    },
    "accelerator": "GPU"
  },
  "cells": [
    {
      "cell_type": "code",
      "execution_count": null,
      "metadata": {
        "id": "jlkh8iEmvkLe"
      },
      "outputs": [],
      "source": [
        "!pip install -U spacy"
      ]
    },
    {
      "cell_type": "code",
      "source": [
        "!pip install spacy_transformers"
      ],
      "metadata": {
        "id": "na6K62Zhzwid"
      },
      "execution_count": null,
      "outputs": []
    },
    {
      "cell_type": "code",
      "source": [
        "import spacy_transformers\n",
        "import spacy\n",
        "from spacy.tokens import DocBin\n",
        "from tqdm import tqdm"
      ],
      "metadata": {
        "id": "XHYRcUvr0FZ5"
      },
      "execution_count": 3,
      "outputs": []
    },
    {
      "cell_type": "code",
      "source": [
        "import json\n",
        "cv_data = json.load(open('/content/train_data.json', 'r'))"
      ],
      "metadata": {
        "id": "O4Vtp8yJ0YuI"
      },
      "execution_count": 4,
      "outputs": []
    },
    {
      "cell_type": "code",
      "source": [
        "cv_data"
      ],
      "metadata": {
        "id": "WH1bcqBZ0bBC"
      },
      "execution_count": null,
      "outputs": []
    },
    {
      "cell_type": "code",
      "source": [
        "import locale\n",
        "locale.getpreferredencoding = lambda: \"UTF-8\""
      ],
      "metadata": {
        "id": "L6ihLYWu0-3z"
      },
      "execution_count": 7,
      "outputs": []
    },
    {
      "cell_type": "code",
      "source": [
        "!python -m spacy init fill-config /content/base_config.cfg /content/config.cfg"
      ],
      "metadata": {
        "colab": {
          "base_uri": "https://localhost:8080/"
        },
        "id": "fmv7nnqq0fro",
        "outputId": "54dabf6c-5c63-47df-e09d-5aec184879cb"
      },
      "execution_count": 8,
      "outputs": [
        {
          "output_type": "stream",
          "name": "stdout",
          "text": [
            "2023-06-22 15:59:28.582079: W tensorflow/compiler/tf2tensorrt/utils/py_utils.cc:38] TF-TRT Warning: Could not find TensorRT\n",
            "\u001b[38;5;2m✔ Auto-filled config with all values\u001b[0m\n",
            "\u001b[38;5;2m✔ Saved config\u001b[0m\n",
            "/content/config.cfg\n",
            "You can now add your data and train your pipeline:\n",
            "python -m spacy train config.cfg --paths.train ./train.spacy --paths.dev ./dev.spacy\n"
          ]
        }
      ]
    },
    {
      "cell_type": "code",
      "source": [
        "def get_spacy_doc(file, data):\n",
        "  nlp =spacy.blank('en')\n",
        "  db= DocBin()\n",
        "  for text, annot in tqdm(data):\n",
        "    doc = nlp.make_doc(text)\n",
        "    annot =annot['entities']\n",
        "    ents = []\n",
        "    entity_indices = []\n",
        "    for start, end, label in annot:\n",
        "      skip_entity = False\n",
        "      for idx in range(start, end):\n",
        "        if idx in entity_indices:\n",
        "          skip_entity =True\n",
        "          break\n",
        "      if skip_entity == True:\n",
        "        continue\n",
        "      entity_indices = entity_indices +list(range(start,end))\n",
        "      try:\n",
        "        span = doc.char_span(start,end,label =label, alignment_mode = 'strict')\n",
        "      except:\n",
        "        print(\"error\")\n",
        "        continue\n",
        "      if span is None:\n",
        "        err_data =str([start,end]) + \"    \" +str(text) + \"\\n\"\n",
        "        file.write(err_data)\n",
        "\n",
        "      else:\n",
        "        ents.append(span)\n",
        "    try:\n",
        "      doc.ents =ents\n",
        "      db.add(doc)\n",
        "    except:\n",
        "      pass\n",
        "  return db"
      ],
      "metadata": {
        "id": "-Ur4hZb-1WF-"
      },
      "execution_count": 9,
      "outputs": []
    },
    {
      "cell_type": "code",
      "source": [
        "from sklearn.model_selection import train_test_split\n",
        "train, test =train_test_split(cv_data, test_size = 0.3)"
      ],
      "metadata": {
        "id": "ZIjvFNFq1Y27"
      },
      "execution_count": 10,
      "outputs": []
    },
    {
      "cell_type": "code",
      "source": [
        "file =open('error.txt', 'w', encoding ='utf8')\n",
        "db =get_spacy_doc(file, train)\n",
        "db.to_disk('train_data.spacy')\n",
        "db = get_spacy_doc(file, test)\n",
        "db.to_disk('test_data.spacy')\n",
        "file.close()"
      ],
      "metadata": {
        "colab": {
          "base_uri": "https://localhost:8080/"
        },
        "id": "AbBLq9Af1fKt",
        "outputId": "71e06157-2cfe-42c3-a165-77fe163990ed"
      },
      "execution_count": 12,
      "outputs": [
        {
          "output_type": "stream",
          "name": "stderr",
          "text": [
            " 37%|███▋      | 52/140 [00:00<00:00, 104.52it/s]"
          ]
        },
        {
          "output_type": "stream",
          "name": "stdout",
          "text": [
            "error\n"
          ]
        },
        {
          "output_type": "stream",
          "name": "stderr",
          "text": [
            "100%|██████████| 140/140 [00:01<00:00, 96.48it/s]\n",
            "100%|██████████| 60/60 [00:00<00:00, 71.01it/s]\n"
          ]
        }
      ]
    },
    {
      "cell_type": "code",
      "source": [
        "!python -m spacy train /content/config.cfg --output ./output --paths.train ./train_data.spacy --paths.dev ./test_data.spacy --gpu-id 0"
      ],
      "metadata": {
        "colab": {
          "base_uri": "https://localhost:8080/"
        },
        "id": "lqeyJToO12YD",
        "outputId": "9f87c5b0-5b0a-4c30-a418-5c7a5a2abc1d"
      },
      "execution_count": 13,
      "outputs": [
        {
          "output_type": "stream",
          "name": "stdout",
          "text": [
            "2023-06-22 16:04:21.044662: W tensorflow/compiler/tf2tensorrt/utils/py_utils.cc:38] TF-TRT Warning: Could not find TensorRT\n",
            "\u001b[38;5;2m✔ Created output directory: output\u001b[0m\n",
            "\u001b[38;5;4mℹ Saving to output directory: output\u001b[0m\n",
            "\u001b[38;5;4mℹ Using GPU: 0\u001b[0m\n",
            "\u001b[1m\n",
            "=========================== Initializing pipeline ===========================\u001b[0m\n",
            "[2023-06-22 16:04:31,328] [INFO] Set up nlp object from config\n",
            "[2023-06-22 16:04:31,357] [INFO] Pipeline: ['transformer', 'ner']\n",
            "[2023-06-22 16:04:31,364] [INFO] Created vocabulary\n",
            "[2023-06-22 16:04:31,365] [INFO] Finished initializing nlp object\n",
            "Downloading (…)lve/main/config.json: 100% 481/481 [00:00<00:00, 2.84MB/s]\n",
            "Downloading (…)olve/main/vocab.json: 899kB [00:00, 10.4MB/s]\n",
            "Downloading (…)olve/main/merges.txt: 456kB [00:00, 10.1MB/s]\n",
            "Downloading (…)/main/tokenizer.json: 1.36MB [00:00, 9.69MB/s]\n",
            "Downloading model.safetensors: 100% 499M/499M [00:01<00:00, 269MB/s]\n",
            "Some weights of the model checkpoint at roberta-base were not used when initializing RobertaModel: ['lm_head.dense.weight', 'lm_head.layer_norm.weight', 'lm_head.layer_norm.bias', 'lm_head.dense.bias', 'lm_head.bias']\n",
            "- This IS expected if you are initializing RobertaModel from the checkpoint of a model trained on another task or with another architecture (e.g. initializing a BertForSequenceClassification model from a BertForPreTraining model).\n",
            "- This IS NOT expected if you are initializing RobertaModel from the checkpoint of a model that you expect to be exactly identical (initializing a BertForSequenceClassification model from a BertForSequenceClassification model).\n",
            "Some weights of RobertaModel were not initialized from the model checkpoint at roberta-base and are newly initialized: ['roberta.pooler.dense.bias', 'roberta.pooler.dense.weight']\n",
            "You should probably TRAIN this model on a down-stream task to be able to use it for predictions and inference.\n",
            "[2023-06-22 16:04:59,102] [INFO] Initialized pipeline components: ['transformer', 'ner']\n",
            "\u001b[38;5;2m✔ Initialized pipeline\u001b[0m\n",
            "\u001b[1m\n",
            "============================= Training pipeline =============================\u001b[0m\n",
            "\u001b[38;5;4mℹ Pipeline: ['transformer', 'ner']\u001b[0m\n",
            "\u001b[38;5;4mℹ Initial learn rate: 0.0\u001b[0m\n",
            "E    #       LOSS TRANS...  LOSS NER  ENTS_F  ENTS_P  ENTS_R  SCORE \n",
            "---  ------  -------------  --------  ------  ------  ------  ------\n",
            "  0       0        1392.16   1421.41    0.08    0.04    1.89    0.00\n",
            "  4     200      223327.27  68124.69   15.66   72.48    8.78    0.16\n",
            "  8     400       58321.11  24703.22   42.62   54.20   35.11    0.43\n",
            " 12     600       16935.19  19922.08   54.38   51.81   57.22    0.54\n",
            " 16     800        5211.98  18324.70   55.80   51.26   61.22    0.56\n",
            " 20    1000       12811.10  16811.04   52.49   45.45   62.11    0.52\n",
            " 25    1200       40438.71  16282.85   55.22   51.64   59.33    0.55\n",
            " 29    1400         814.02  14299.66   56.51   58.10   55.00    0.57\n",
            " 33    1600        3491.20  13850.71   53.39   62.19   46.78    0.53\n",
            " 37    1800        7154.56  13528.48   52.20   61.32   45.44    0.52\n",
            " 41    2000         415.61  13046.74   56.48   60.74   52.78    0.56\n",
            " 45    2200         388.73  12523.81   55.28   60.03   51.22    0.55\n",
            " 50    2400       29394.30  12448.88   57.04   53.39   61.22    0.57\n",
            " 54    2600        3820.92  11187.51   55.94   49.61   64.11    0.56\n",
            " 58    2800        3890.45  10491.80   54.13   50.33   58.56    0.54\n",
            " 62    3000         221.91   9749.29   59.60   57.48   61.89    0.60\n",
            " 66    3200         236.86   8928.67   55.53   54.75   56.33    0.56\n",
            " 70    3400      123516.90   8248.36   57.13   57.94   56.33    0.57\n",
            " 75    3600        2156.01   7104.14   56.63   61.24   52.67    0.57\n",
            " 79    3800         166.99   5508.56   57.38   57.54   57.22    0.57\n",
            " 83    4000        5700.24   4467.95   53.52   61.56   47.33    0.54\n",
            " 87    4200         640.81   3491.61   54.99   55.21   54.78    0.55\n",
            " 91    4400         250.27   2525.68   58.25   61.48   55.33    0.58\n",
            " 95    4600         217.18   1732.70   56.04   55.64   56.44    0.56\n",
            "\u001b[38;5;2m✔ Saved pipeline to output directory\u001b[0m\n",
            "output/model-last\n"
          ]
        }
      ]
    },
    {
      "cell_type": "code",
      "source": [
        "nlp = spacy.load('/content/output/model-best')"
      ],
      "metadata": {
        "id": "082QIxsEMUX1"
      },
      "execution_count": 28,
      "outputs": []
    },
    {
      "cell_type": "code",
      "source": [
        "doc = nlp('''Rohan Chaudhary rohanchaudhary1526@gmail.com | +91-7888787497 | LinkedIn: rohan_chaudhary\n",
        "B13 Beas Kund Hostel, IIT Mandi, Himachal Pradesh, India\n",
        "EDUCATION\n",
        "\n",
        "Indian Institute of Technology, Mandi Himachal Pradesh, India\n",
        "Bachelor of Technology - Computer Science and Engineering, GPA: 9.25/10 Dec 2021 -Present\n",
        "Coursework: Data Structures and Algorithms, Information and Databases Systems, Mathematical Foundation of Computer Science, Data Science -1,2,3 (Data mining, Data visualization and Machine Learning)\n",
        "\n",
        "Govt. Model Senior Secondary School Chandigarh, India\n",
        "CBSE Senior Secondary Examination (PCM), Percentage: 94.4% 2019-2021\n",
        "WORK EXPERIENCE\n",
        "Incubate Up Remote\n",
        "Software Engineer Intern Jan 2023 – April 2023\n",
        "Assisted in a project of designing a web application which allowed clients to book meetings and other sessions with the experts of the relevant field. Actively contributed to the organization by fixing the existing issues and by implementing many new functionalities in the web application.\n",
        "Tech Stack: ReactJS, PHP, MySQL, HTML and CSS, REST API\n",
        "PROJECTS\n",
        "Flight Seat Allotment System Guide: Prof Varun Dutt\n",
        "\n",
        "Brief Description: Developed a web application (FlyHigh) through which a person can allot flight seats to requesting passengers keeping one-fourth (25%) of the seats reserved for ladies and senior citizens (>60 years of age). This project was built as a part of our Applied Databases Practicum Course.\n",
        "Tools/Skills: Frontend: HTML, CSS, JavaScript Backend: PHP, MySQL\n",
        "Resume Parser Guide: Prof Aditya Nigam\n",
        "\n",
        "Brief Description: Created a project which aims at building model which take resume as an input, infer details from it and then whether predict whether the resume is capable of being selected for a certain job position. In other words, it is an ML model built to shortlist resumes.\n",
        "Tools/Skills: Python, Pandas, Scikit-learn, Natural Language Processing, Named-Entity Recognition\n",
        "Landslide Monitoring System\n",
        "\n",
        "Brief Description: Designed a landslide monitoring system which tells how likely is the occurrence of a landslide with the help of a dataset collected from various places around the Mandi district.\n",
        "Tools/Skills: Python, NumPy, Pandas, Matplotlib, Scikit-learn\n",
        "SKILLS AND TECHNOLOGIES\n",
        "\n",
        "Programming Languages: C / C++, Python, HTML, JavaScript, Kotlin\n",
        "\n",
        "IDEs and Programming Tools: Visual Studio Code, Sublime Text, Jupyter Notebook, Spyder\n",
        "\n",
        "Other Tools: MySQL, Git, Arduino, LaTeX, MATLAB, PostgreSQL\n",
        "SCHOLASTIC ACHIEVEMENTS AND EXTRA CURRICULAR ACTIVITIES\n",
        "\n",
        "Secured All India Rank 2493 in JEE Advanced 2021 out of 2 lakh participating candidates.\n",
        "\n",
        "Secured position in the top 0.5 percent students by securing All India Rank 3918 in JEE Mains 2021\n",
        "\n",
        "among 1 million participating candidates.\n",
        "\n",
        "Core team member of the Space Technology and Astronomy Club (STAC) of IIT Mandi.\n",
        "\n",
        "Volunteer at GCS (Guidance and Counselling Service), IIT Mandi for the year 2022-2023.\n",
        "\n",
        "Helped in collecting sponsorships by being a part in the Sponsorship Team of our annual sports fest, Rann-Neeti’22.''')\n",
        "for ent in doc.ents:\n",
        "  print(ent.text, \"    ->   \", ent.label_)"
      ],
      "metadata": {
        "colab": {
          "base_uri": "https://localhost:8080/"
        },
        "id": "9hbhIxSiMrGO",
        "outputId": "50ef1a08-e4ae-41a5-fa30-d2d28f2cf19e"
      },
      "execution_count": 30,
      "outputs": [
        {
          "output_type": "stream",
          "name": "stdout",
          "text": [
            "Rohan Chaudhary     ->    Name\n",
            "rohan_chaudhary\n",
            "     ->    Email Address\n",
            "Beas Kund Hostel, IIT Mandi, Himachal Pradesh, India     ->    College Name\n",
            "Indian Institute of Technology, Mandi Himachal Pradesh     ->    College Name\n",
            "Bachelor of Technology - Computer Science and Engineering, GPA     ->    Degree\n",
            "Govt. Model Senior Secondary School Chandigarh, India\n",
            "CBSE Senior Secondary Examination (PCM), Percentage: 94.4% 2019-2021\n",
            "WORK EXPERIENCE\n",
            "Incubate Up Remote\n",
            "Software Engineer Intern Jan 2023 – April 2023\n",
            "Assisted in a project of designing a web application which allowed clients to book meetings and other sessions with the experts of the relevant field. Actively contributed to the organization by fixing the existing issues and by implementing many new functionalities in the web application.\n",
            "Tech Stack: ReactJS, PHP, MySQL, HTML and CSS, REST API\n",
            "PROJECTS\n",
            "Flight Seat Allotment System Guide: Prof Varun Dutt\n",
            "     ->    College Name\n",
            "Aditya Nigam     ->    Name\n"
          ]
        }
      ]
    },
    {
      "cell_type": "code",
      "source": [
        "!pip install PyMuPDF"
      ],
      "metadata": {
        "colab": {
          "base_uri": "https://localhost:8080/"
        },
        "id": "a0wSqx21NlyK",
        "outputId": "234f9410-9baa-49d6-8a83-14089f0bce32"
      },
      "execution_count": 22,
      "outputs": [
        {
          "output_type": "stream",
          "name": "stdout",
          "text": [
            "Looking in indexes: https://pypi.org/simple, https://us-python.pkg.dev/colab-wheels/public/simple/\n",
            "Collecting PyMuPDF\n",
            "  Downloading PyMuPDF-1.22.5-cp310-cp310-manylinux_2_17_x86_64.manylinux2014_x86_64.whl (14.1 MB)\n",
            "\u001b[2K     \u001b[90m━━━━━━━━━━━━━━━━━━━━━━━━━━━━━━━━━━━━━━━━\u001b[0m \u001b[32m14.1/14.1 MB\u001b[0m \u001b[31m67.9 MB/s\u001b[0m eta \u001b[36m0:00:00\u001b[0m\n",
            "\u001b[?25hInstalling collected packages: PyMuPDF\n",
            "Successfully installed PyMuPDF-1.22.5\n"
          ]
        }
      ]
    },
    {
      "cell_type": "code",
      "source": [
        "import sys, fitz"
      ],
      "metadata": {
        "id": "gMtgSYmHNxy_"
      },
      "execution_count": 23,
      "outputs": []
    },
    {
      "cell_type": "code",
      "source": [
        "fname ='/content/Rohan Chaudhary RESUME 22Jun.pdf'\n",
        "doc = fitz.open(fname)"
      ],
      "metadata": {
        "id": "RJasZHqJN2Hp"
      },
      "execution_count": 24,
      "outputs": []
    },
    {
      "cell_type": "code",
      "source": [
        "doc =[page for page in doc]\n"
      ],
      "metadata": {
        "id": "FD8erILeOGrP"
      },
      "execution_count": 25,
      "outputs": []
    },
    {
      "cell_type": "code",
      "source": [
        "text=\"\"\n",
        "for page in doc:\n",
        "  for w in page.widgets():\n",
        "    print(f\"Widget has the type {w.field_type_string}\")\n",
        "    # Do whatever else you want to do with the widget"
      ],
      "metadata": {
        "id": "3x7-so7cOxUq"
      },
      "execution_count": null,
      "outputs": []
    },
    {
      "cell_type": "code",
      "source": [
        "!zip -r /content/full.zip /content/"
      ],
      "metadata": {
        "colab": {
          "base_uri": "https://localhost:8080/"
        },
        "id": "giMCqqnDR5Bh",
        "outputId": "b2d5b3db-d351-4c44-a7cb-2a37cc79549f"
      },
      "execution_count": 31,
      "outputs": [
        {
          "output_type": "stream",
          "name": "stdout",
          "text": [
            "  adding: content/ (stored 0%)\n",
            "  adding: content/.config/ (stored 0%)\n",
            "  adding: content/.config/.last_opt_in_prompt.yaml (stored 0%)\n",
            "  adding: content/.config/gce (stored 0%)\n",
            "  adding: content/.config/config_sentinel (stored 0%)\n",
            "  adding: content/.config/logs/ (stored 0%)\n",
            "  adding: content/.config/logs/2023.06.20/ (stored 0%)\n",
            "  adding: content/.config/logs/2023.06.20/13.38.27.140182.log (deflated 58%)\n",
            "  adding: content/.config/logs/2023.06.20/13.37.45.310511.log (deflated 57%)\n",
            "  adding: content/.config/logs/2023.06.20/13.38.57.163862.log (deflated 56%)\n",
            "  adding: content/.config/logs/2023.06.20/13.38.56.279827.log (deflated 57%)\n",
            "  adding: content/.config/logs/2023.06.20/13.37.15.717456.log (deflated 91%)\n",
            "  adding: content/.config/logs/2023.06.20/13.38.13.258365.log (deflated 86%)\n",
            "  adding: content/.config/.last_survey_prompt.yaml (stored 0%)\n",
            "  adding: content/.config/active_config (stored 0%)\n",
            "  adding: content/.config/.last_update_check.json (deflated 23%)\n",
            "  adding: content/.config/configurations/ (stored 0%)\n",
            "  adding: content/.config/configurations/config_default (deflated 15%)\n",
            "  adding: content/base_config.cfg (deflated 56%)\n",
            "  adding: content/Rohan Chaudhary RESUME 22Jun.pdf (deflated 9%)\n",
            "  adding: content/.ipynb_checkpoints/ (stored 0%)\n",
            "  adding: content/train_data.json (deflated 69%)\n",
            "  adding: content/output/ (stored 0%)\n",
            "  adding: content/output/model-best/ (stored 0%)\n",
            "  adding: content/output/model-best/tokenizer (deflated 81%)\n",
            "  adding: content/output/model-best/ner/ (stored 0%)\n",
            "  adding: content/output/model-best/ner/model (deflated 8%)\n",
            "  adding: content/output/model-best/ner/moves (deflated 74%)\n",
            "  adding: content/output/model-best/ner/cfg (deflated 33%)\n",
            "  adding: content/output/model-best/meta.json (deflated 66%)\n",
            "  adding: content/output/model-best/vocab/ (stored 0%)\n",
            "  adding: content/output/model-best/vocab/vectors.cfg (stored 0%)\n",
            "  adding: content/output/model-best/vocab/lookups.bin (stored 0%)\n",
            "  adding: content/output/model-best/vocab/vectors (deflated 45%)\n",
            "  adding: content/output/model-best/vocab/strings.json (deflated 76%)\n",
            "  adding: content/output/model-best/vocab/key2row (stored 0%)\n",
            "  adding: content/output/model-best/config.cfg (deflated 61%)\n",
            "  adding: content/output/model-best/transformer/ (stored 0%)\n",
            "  adding: content/output/model-best/transformer/model (deflated 13%)\n",
            "  adding: content/output/model-best/transformer/cfg (stored 0%)\n",
            "  adding: content/output/model-last/ (stored 0%)\n",
            "  adding: content/output/model-last/tokenizer (deflated 81%)\n",
            "  adding: content/output/model-last/ner/ (stored 0%)\n",
            "  adding: content/output/model-last/ner/model (deflated 8%)\n",
            "  adding: content/output/model-last/ner/moves (deflated 74%)\n",
            "  adding: content/output/model-last/ner/cfg (deflated 33%)\n",
            "  adding: content/output/model-last/meta.json (deflated 65%)\n",
            "  adding: content/output/model-last/vocab/ (stored 0%)\n",
            "  adding: content/output/model-last/vocab/vectors.cfg (stored 0%)\n",
            "  adding: content/output/model-last/vocab/lookups.bin (stored 0%)\n",
            "  adding: content/output/model-last/vocab/vectors (deflated 45%)\n",
            "  adding: content/output/model-last/vocab/strings.json (deflated 76%)\n",
            "  adding: content/output/model-last/vocab/key2row (stored 0%)\n",
            "  adding: content/output/model-last/config.cfg (deflated 61%)\n",
            "  adding: content/output/model-last/transformer/ (stored 0%)\n",
            "  adding: content/output/model-last/transformer/model (deflated 13%)\n",
            "  adding: content/output/model-last/transformer/cfg (stored 0%)\n",
            "  adding: content/train_data.spacy (deflated 5%)\n",
            "  adding: content/error.txt (deflated 88%)\n",
            "  adding: content/test_data.spacy (deflated 5%)\n",
            "  adding: content/config.cfg (deflated 61%)\n",
            "  adding: content/sample_data/ (stored 0%)\n",
            "  adding: content/sample_data/anscombe.json (deflated 83%)\n",
            "  adding: content/sample_data/README.md (deflated 42%)\n",
            "  adding: content/sample_data/mnist_test.csv (deflated 88%)\n",
            "  adding: content/sample_data/california_housing_test.csv (deflated 76%)\n",
            "  adding: content/sample_data/mnist_train_small.csv (deflated 88%)\n",
            "  adding: content/sample_data/california_housing_train.csv (deflated 79%)\n"
          ]
        }
      ]
    },
    {
      "cell_type": "code",
      "source": [
        "!zip -r /content/full_output.zip /content/output/"
      ],
      "metadata": {
        "colab": {
          "base_uri": "https://localhost:8080/"
        },
        "id": "gKYepIwGS3Xa",
        "outputId": "4bc6aa4f-e6f4-4a95-b804-92b0d154714f"
      },
      "execution_count": 32,
      "outputs": [
        {
          "output_type": "stream",
          "name": "stdout",
          "text": [
            "  adding: content/output/ (stored 0%)\n",
            "  adding: content/output/model-best/ (stored 0%)\n",
            "  adding: content/output/model-best/tokenizer (deflated 81%)\n",
            "  adding: content/output/model-best/ner/ (stored 0%)\n",
            "  adding: content/output/model-best/ner/model (deflated 8%)\n",
            "  adding: content/output/model-best/ner/moves (deflated 74%)\n",
            "  adding: content/output/model-best/ner/cfg (deflated 33%)\n",
            "  adding: content/output/model-best/meta.json (deflated 66%)\n",
            "  adding: content/output/model-best/vocab/ (stored 0%)\n",
            "  adding: content/output/model-best/vocab/vectors.cfg (stored 0%)\n",
            "  adding: content/output/model-best/vocab/lookups.bin (stored 0%)\n",
            "  adding: content/output/model-best/vocab/vectors (deflated 45%)\n",
            "  adding: content/output/model-best/vocab/strings.json (deflated 76%)\n",
            "  adding: content/output/model-best/vocab/key2row (stored 0%)\n",
            "  adding: content/output/model-best/config.cfg (deflated 61%)\n",
            "  adding: content/output/model-best/transformer/ (stored 0%)\n",
            "  adding: content/output/model-best/transformer/model (deflated 13%)\n",
            "  adding: content/output/model-best/transformer/cfg (stored 0%)\n",
            "  adding: content/output/model-last/ (stored 0%)\n",
            "  adding: content/output/model-last/tokenizer (deflated 81%)\n",
            "  adding: content/output/model-last/ner/ (stored 0%)\n",
            "  adding: content/output/model-last/ner/model (deflated 8%)\n",
            "  adding: content/output/model-last/ner/moves (deflated 74%)\n",
            "  adding: content/output/model-last/ner/cfg (deflated 33%)\n",
            "  adding: content/output/model-last/meta.json (deflated 65%)\n",
            "  adding: content/output/model-last/vocab/ (stored 0%)\n",
            "  adding: content/output/model-last/vocab/vectors.cfg (stored 0%)\n",
            "  adding: content/output/model-last/vocab/lookups.bin (stored 0%)\n",
            "  adding: content/output/model-last/vocab/vectors (deflated 45%)\n",
            "  adding: content/output/model-last/vocab/strings.json (deflated 76%)\n",
            "  adding: content/output/model-last/vocab/key2row (stored 0%)\n",
            "  adding: content/output/model-last/config.cfg (deflated 61%)\n",
            "  adding: content/output/model-last/transformer/ (stored 0%)\n",
            "  adding: content/output/model-last/transformer/model (deflated 13%)\n",
            "  adding: content/output/model-last/transformer/cfg (stored 0%)\n"
          ]
        }
      ]
    }
  ]
}